{
 "cells": [
  {
   "cell_type": "code",
   "execution_count": null,
   "metadata": {},
   "outputs": [],
   "source": [
    "# Run this cell to install pip requirements.\n",
    "!pip install -r requirements.txt"
   ]
  },
  {
   "cell_type": "markdown",
   "metadata": {},
   "source": [
    "# Part 1: Basic Structures\n",
    "\n",
    "Overview of steps:\n",
    "\n",
    "1. Imports\n",
    "1. Create Some Tensors\n",
    "1. Basic Tensor Operations\n",
    "1. Automatic Differentiation\n",
    "1. Moving to GPU"
   ]
  },
  {
   "cell_type": "code",
   "execution_count": 10,
   "metadata": {},
   "outputs": [
    {
     "name": "stdout",
     "output_type": "stream",
     "text": [
      "2.4.0+cu121\n"
     ]
    }
   ],
   "source": [
    "# Import PyTorch and check version.\n",
    "\n",
    "import torch\n",
    "print(torch.__version__)"
   ]
  },
  {
   "cell_type": "code",
   "execution_count": 11,
   "metadata": {},
   "outputs": [
    {
     "name": "stdout",
     "output_type": "stream",
     "text": [
      "tensor([1, 2, 3, 4, 5])\n",
      "tensor([[1, 2],\n",
      "        [3, 4]])\n"
     ]
    }
   ],
   "source": [
    "# Create a tensor\n",
    "\n",
    "# Create a 1D tensor (vector)\n",
    "tensor = torch.tensor([1, 2, 3, 4, 5])\n",
    "print(tensor)\n",
    "\n",
    "# Create a 2D tensor (matrix)\n",
    "tensor_2d = torch.tensor([[1, 2], [3, 4]])\n",
    "print(tensor_2d)"
   ]
  },
  {
   "cell_type": "code",
   "execution_count": 12,
   "metadata": {},
   "outputs": [
    {
     "name": "stdout",
     "output_type": "stream",
     "text": [
      "tensor([3, 4, 5, 6, 7])\n",
      "tensor([ 2,  4,  6,  8, 10])\n",
      "tensor([[ 7, 10],\n",
      "        [15, 22]])\n"
     ]
    }
   ],
   "source": [
    "# Basic Operations\n",
    "\n",
    "# Element-wise addition\n",
    "tensor_add = tensor + 2\n",
    "print(tensor_add)\n",
    "\n",
    "# Element-wise multiplication\n",
    "tensor_mul = tensor * 2\n",
    "print(tensor_mul)\n",
    "\n",
    "# Matrix multiplication\n",
    "matrix_mul = torch.matmul(tensor_2d, tensor_2d)\n",
    "print(matrix_mul)"
   ]
  },
  {
   "cell_type": "code",
   "execution_count": 13,
   "metadata": {},
   "outputs": [
    {
     "name": "stdout",
     "output_type": "stream",
     "text": [
      "tensor(7.)\n"
     ]
    }
   ],
   "source": [
    "# Automatic Differentiation\n",
    "\n",
    "# Create a tensor with requires_grad=True to track operations on it.\n",
    "x = torch.tensor(2.0, requires_grad=True)\n",
    "y = x**2 + 3*x + 1\n",
    "\n",
    "# Compute gradients.\n",
    "y.backward()\n",
    "\n",
    "# Print the gradient (dy/dx)\n",
    "print(x.grad)"
   ]
  },
  {
   "cell_type": "code",
   "execution_count": 14,
   "metadata": {},
   "outputs": [
    {
     "name": "stdout",
     "output_type": "stream",
     "text": [
      "GPU not available.\n"
     ]
    }
   ],
   "source": [
    "# Moving tensors to GPU.\n",
    "\n",
    "if torch.cuda.is_available():\n",
    "    tensor_gpu = tensor.to('cuda')\n",
    "    print(tensor_gpu)\n",
    "else:\n",
    "    print(\"GPU not available.\")"
   ]
  },
  {
   "cell_type": "markdown",
   "metadata": {},
   "source": [
    "# Part 2: Training a Model and Doing Inference\n",
    "\n",
    "Overview of steps:\n",
    "\n",
    "1. Imports.\n",
    "1. Create example dataset.\n",
    "1. Define a linear model: $y=Wx+b$.\n",
    "   - $W$ is the weight.\n",
    "   - $b$ is the bias.\n",
    "1. Train the model using training data. The model adjusts $W$ and $b$ to minimize the loss function.\n",
    "1. Perform inference with the trained model. Given an arbitrary input, use the model to predict the outputs."
   ]
  },
  {
   "cell_type": "markdown",
   "metadata": {},
   "source": [
    "## 1. Imports"
   ]
  },
  {
   "cell_type": "code",
   "execution_count": 1,
   "metadata": {},
   "outputs": [],
   "source": [
    "import torch\n",
    "import torch.nn as nn\n",
    "import torch.optim as optim"
   ]
  },
  {
   "cell_type": "markdown",
   "metadata": {},
   "source": [
    "## 2. Create Example Dataset"
   ]
  },
  {
   "cell_type": "code",
   "execution_count": 2,
   "metadata": {},
   "outputs": [],
   "source": [
    "# Generate some example data.\n",
    "# Data will match the following function outputs: y = 2 * x + 1\n",
    "X = torch.tensor([[1.0], [2.0], [3.0], [4.0]])\n",
    "y = torch.tensor([[3.0], [5.0], [7.0], [9.0]])"
   ]
  },
  {
   "cell_type": "markdown",
   "metadata": {},
   "source": [
    "## 3. Define a Linear Model "
   ]
  },
  {
   "cell_type": "code",
   "execution_count": 4,
   "metadata": {},
   "outputs": [],
   "source": [
    "# Define a simple linear model.\n",
    "model = nn.Linear(in_features=1, out_features=1)"
   ]
  },
  {
   "cell_type": "code",
   "execution_count": 5,
   "metadata": {},
   "outputs": [],
   "source": [
    "# Define loss function, optimizer\n",
    "loss_fn = nn.MSELoss()\n",
    "optimizer = optim.SGD(model.parameters(), lr=0.01)"
   ]
  },
  {
   "cell_type": "markdown",
   "metadata": {},
   "source": [
    "## 4. Train the Model"
   ]
  },
  {
   "cell_type": "code",
   "execution_count": 8,
   "metadata": {},
   "outputs": [
    {
     "name": "stdout",
     "output_type": "stream",
     "text": [
      "Epoch 100/1000, Loss: 5.8437264669919387e-05\n",
      "Epoch 200/1000, Loss: 3.2082934922073036e-05\n",
      "Epoch 300/1000, Loss: 1.7612424926483072e-05\n",
      "Epoch 400/1000, Loss: 9.66916650213534e-06\n",
      "Epoch 500/1000, Loss: 5.308143045112956e-06\n",
      "Epoch 600/1000, Loss: 2.9151124181225896e-06\n",
      "Epoch 700/1000, Loss: 1.6004523786250502e-06\n",
      "Epoch 800/1000, Loss: 8.785764293861575e-07\n",
      "Epoch 900/1000, Loss: 4.828955866287288e-07\n",
      "Epoch 1000/1000, Loss: 2.6537878738963627e-07\n"
     ]
    }
   ],
   "source": [
    "# Training loop:\n",
    "epochs = 1000\n",
    "for epoch in range(epochs):\n",
    "    # Forward pass: compute predicted y by passing X to the model.\n",
    "    y_pred = model(X)\n",
    "    \n",
    "    # Compute the loss\n",
    "    loss = loss_fn(y_pred, y)\n",
    "\n",
    "    # Zero gradients, perofrm a backward pass, and update the weights.\n",
    "    optimizer.zero_grad()\n",
    "    loss.backward()\n",
    "    optimizer.step()\n",
    "\n",
    "    # Print the loss every 100 epochs\n",
    "    if (epoch + 1) % 100 == 0:\n",
    "        print(f\"Epoch {epoch+1}/{epochs}, Loss: {loss.item()}\")"
   ]
  },
  {
   "cell_type": "markdown",
   "metadata": {},
   "source": [
    "## 4. Perform Inference"
   ]
  },
  {
   "cell_type": "code",
   "execution_count": 9,
   "metadata": {},
   "outputs": [
    {
     "name": "stdout",
     "output_type": "stream",
     "text": [
      "Predicted y for input 5.0: 10.99911880493164\n"
     ]
    }
   ],
   "source": [
    "# Perform inference.\n",
    "\n",
    "with torch.no_grad():  # Disable gradient calcualtion for inference.\n",
    "    new_X = torch.tensor([[5.0]])  # Example input\n",
    "    predicted_y = model(new_X)\n",
    "    print(f\"Predicted y for input 5.0: {predicted_y.item()}\")"
   ]
  }
 ],
 "metadata": {
  "kernelspec": {
   "display_name": ".venv",
   "language": "python",
   "name": "python3"
  },
  "language_info": {
   "codemirror_mode": {
    "name": "ipython",
    "version": 3
   },
   "file_extension": ".py",
   "mimetype": "text/x-python",
   "name": "python",
   "nbconvert_exporter": "python",
   "pygments_lexer": "ipython3",
   "version": "3.12.5"
  }
 },
 "nbformat": 4,
 "nbformat_minor": 2
}
