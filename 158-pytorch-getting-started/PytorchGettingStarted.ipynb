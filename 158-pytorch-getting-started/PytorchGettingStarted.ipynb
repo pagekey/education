{
 "cells": [
  {
   "cell_type": "markdown",
   "metadata": {},
   "source": [
    "# Getting Started with PyTorch\n",
    "\n",
    "PyTorch is a widely-used Python library for deep learning. In this notebook, we'll cover the essentials of getting started with PyTorch:\n",
    "\n",
    "1. [Installing PyTorch](#part-1-installation)\n",
    "\n",
    "2. [Basic Data Structures](#part-2-basic-structures)\n",
    "\n",
    "3. [Training a Model](#part-3-training-a-model)\n",
    "\n",
    "4. [Performing inference with the model](#part-4-performing-inference)\n",
    "\n",
    "5. [Saving and Loading Models](#part-5-saving-and-loading-models)\n",
    "\n",
    "\n",
    "In this notebook, we'll install PyTorch, explore basic data structures, and train our first model. We'll show how you can use the model to make inferences on new data. Finally, we'll show how trained models can be saved and loaded to files.\n",
    "\n",
    "By the end, you'll have a solid foundation in PyTorch and be ready to apply it to your own projects."
   ]
  },
  {
   "cell_type": "markdown",
   "metadata": {},
   "source": [
    "## Part 1: Installation\n",
    "\n",
    "Ensure you have a virtual environment active. Then, run the following cell to install `torch` and `matplotlib`."
   ]
  },
  {
   "cell_type": "code",
   "execution_count": 77,
   "metadata": {},
   "outputs": [
    {
     "name": "stdout",
     "output_type": "stream",
     "text": [
      "Requirement already satisfied: torch in ./.venv/lib/python3.12/site-packages (2.4.0)\n",
      "Requirement already satisfied: matplotlib in ./.venv/lib/python3.12/site-packages (3.9.2)\n",
      "Requirement already satisfied: filelock in ./.venv/lib/python3.12/site-packages (from torch) (3.15.4)\n",
      "Requirement already satisfied: typing-extensions>=4.8.0 in ./.venv/lib/python3.12/site-packages (from torch) (4.12.2)\n",
      "Requirement already satisfied: sympy in ./.venv/lib/python3.12/site-packages (from torch) (1.13.2)\n",
      "Requirement already satisfied: networkx in ./.venv/lib/python3.12/site-packages (from torch) (3.3)\n",
      "Requirement already satisfied: jinja2 in ./.venv/lib/python3.12/site-packages (from torch) (3.1.4)\n",
      "Requirement already satisfied: fsspec in ./.venv/lib/python3.12/site-packages (from torch) (2024.6.1)\n",
      "Requirement already satisfied: setuptools in ./.venv/lib/python3.12/site-packages (from torch) (74.0.0)\n",
      "Requirement already satisfied: nvidia-cuda-nvrtc-cu12==12.1.105 in ./.venv/lib/python3.12/site-packages (from torch) (12.1.105)\n",
      "Requirement already satisfied: nvidia-cuda-runtime-cu12==12.1.105 in ./.venv/lib/python3.12/site-packages (from torch) (12.1.105)\n",
      "Requirement already satisfied: nvidia-cuda-cupti-cu12==12.1.105 in ./.venv/lib/python3.12/site-packages (from torch) (12.1.105)\n",
      "Requirement already satisfied: nvidia-cudnn-cu12==9.1.0.70 in ./.venv/lib/python3.12/site-packages (from torch) (9.1.0.70)\n",
      "Requirement already satisfied: nvidia-cublas-cu12==12.1.3.1 in ./.venv/lib/python3.12/site-packages (from torch) (12.1.3.1)\n",
      "Requirement already satisfied: nvidia-cufft-cu12==11.0.2.54 in ./.venv/lib/python3.12/site-packages (from torch) (11.0.2.54)\n",
      "Requirement already satisfied: nvidia-curand-cu12==10.3.2.106 in ./.venv/lib/python3.12/site-packages (from torch) (10.3.2.106)\n",
      "Requirement already satisfied: nvidia-cusolver-cu12==11.4.5.107 in ./.venv/lib/python3.12/site-packages (from torch) (11.4.5.107)\n",
      "Requirement already satisfied: nvidia-cusparse-cu12==12.1.0.106 in ./.venv/lib/python3.12/site-packages (from torch) (12.1.0.106)\n",
      "Requirement already satisfied: nvidia-nccl-cu12==2.20.5 in ./.venv/lib/python3.12/site-packages (from torch) (2.20.5)\n",
      "Requirement already satisfied: nvidia-nvtx-cu12==12.1.105 in ./.venv/lib/python3.12/site-packages (from torch) (12.1.105)\n",
      "Requirement already satisfied: triton==3.0.0 in ./.venv/lib/python3.12/site-packages (from torch) (3.0.0)\n",
      "Requirement already satisfied: nvidia-nvjitlink-cu12 in ./.venv/lib/python3.12/site-packages (from nvidia-cusolver-cu12==11.4.5.107->torch) (12.6.68)\n",
      "Requirement already satisfied: contourpy>=1.0.1 in ./.venv/lib/python3.12/site-packages (from matplotlib) (1.3.0)\n",
      "Requirement already satisfied: cycler>=0.10 in ./.venv/lib/python3.12/site-packages (from matplotlib) (0.12.1)\n",
      "Requirement already satisfied: fonttools>=4.22.0 in ./.venv/lib/python3.12/site-packages (from matplotlib) (4.53.1)\n",
      "Requirement already satisfied: kiwisolver>=1.3.1 in ./.venv/lib/python3.12/site-packages (from matplotlib) (1.4.5)\n",
      "Requirement already satisfied: numpy>=1.23 in ./.venv/lib/python3.12/site-packages (from matplotlib) (2.1.0)\n",
      "Requirement already satisfied: packaging>=20.0 in ./.venv/lib/python3.12/site-packages (from matplotlib) (24.1)\n",
      "Requirement already satisfied: pillow>=8 in ./.venv/lib/python3.12/site-packages (from matplotlib) (10.4.0)\n",
      "Requirement already satisfied: pyparsing>=2.3.1 in ./.venv/lib/python3.12/site-packages (from matplotlib) (3.1.4)\n",
      "Requirement already satisfied: python-dateutil>=2.7 in ./.venv/lib/python3.12/site-packages (from matplotlib) (2.9.0.post0)\n",
      "Requirement already satisfied: six>=1.5 in ./.venv/lib/python3.12/site-packages (from python-dateutil>=2.7->matplotlib) (1.16.0)\n",
      "Requirement already satisfied: MarkupSafe>=2.0 in ./.venv/lib/python3.12/site-packages (from jinja2->torch) (2.1.5)\n",
      "Requirement already satisfied: mpmath<1.4,>=1.1.0 in ./.venv/lib/python3.12/site-packages (from sympy->torch) (1.3.0)\n"
     ]
    }
   ],
   "source": [
    "# Run this cell to install pip requirements.\n",
    "!pip install torch matplotlib"
   ]
  },
  {
   "cell_type": "markdown",
   "metadata": {},
   "source": [
    "## Part 2: Basic Structures\n",
    "\n",
    "In this section, we will:\n",
    "\n",
    "1. Import required packages.\n",
    "1. Create some tensors.\n",
    "1. Perform basic tensor operations.\n",
    "1. Demo Automatic Differentiation.\n",
    "1. Discuss moving to GPU."
   ]
  },
  {
   "cell_type": "markdown",
   "metadata": {},
   "source": [
    "### Importing PyTorch"
   ]
  },
  {
   "cell_type": "code",
   "execution_count": 78,
   "metadata": {},
   "outputs": [
    {
     "name": "stdout",
     "output_type": "stream",
     "text": [
      "2.4.0+cu121\n"
     ]
    }
   ],
   "source": [
    "import torch\n",
    "print(torch.__version__)"
   ]
  },
  {
   "cell_type": "markdown",
   "metadata": {},
   "source": [
    "### Creating a Tensor"
   ]
  },
  {
   "cell_type": "code",
   "execution_count": 79,
   "metadata": {},
   "outputs": [
    {
     "name": "stdout",
     "output_type": "stream",
     "text": [
      "tensor([1, 2, 3, 4, 5])\n",
      "tensor([[1, 2],\n",
      "        [3, 4]])\n"
     ]
    }
   ],
   "source": [
    "# Create a 1D tensor (vector)\n",
    "tensor = torch.tensor([1, 2, 3, 4, 5])\n",
    "print(tensor)\n",
    "\n",
    "# Create a 2D tensor (matrix)\n",
    "tensor_2d = torch.tensor([[1, 2], [3, 4]])\n",
    "print(tensor_2d)"
   ]
  },
  {
   "cell_type": "markdown",
   "metadata": {},
   "source": [
    "### Basic Operations"
   ]
  },
  {
   "cell_type": "code",
   "execution_count": 80,
   "metadata": {},
   "outputs": [
    {
     "name": "stdout",
     "output_type": "stream",
     "text": [
      "tensor([3, 4, 5, 6, 7])\n",
      "tensor([ 2,  4,  6,  8, 10])\n",
      "tensor([[ 7, 10],\n",
      "        [15, 22]])\n"
     ]
    }
   ],
   "source": [
    "# Element-wise addition\n",
    "tensor_add = tensor + 2\n",
    "print(tensor_add)\n",
    "\n",
    "# Element-wise multiplication\n",
    "tensor_mul = tensor * 2\n",
    "print(tensor_mul)\n",
    "\n",
    "# Matrix multiplication\n",
    "matrix_mul = torch.matmul(tensor_2d, tensor_2d)\n",
    "print(matrix_mul)"
   ]
  },
  {
   "cell_type": "markdown",
   "metadata": {},
   "source": [
    "### Automatic Differentiation\n",
    "\n",
    "Tensorflow has a built-in way to compute the differential of a given point. For example, given this equation:\n",
    "\n",
    "$$\n",
    "y = x^2 + 3x + 1\n",
    "$$\n",
    "\n",
    "We know from calculus class that the derivative is:\n",
    "\n",
    "$$\n",
    "y' = 2x + 3\n",
    "$$\n",
    "\n",
    "Tensorflow can figure this out for a specific point. Take $7$ as an example.\n",
    "\n",
    "- Original function: $2^2 + 3*2 + 1 = 4 + 6 + 1 = 11$\n",
    "- Derivative: $2*2 + 3 = 7$\n",
    "\n",
    "Using `requires_grad=True`, we can run `y.backward()` and check to see if the gradient matches our calculations."
   ]
  },
  {
   "cell_type": "code",
   "execution_count": 81,
   "metadata": {},
   "outputs": [
    {
     "name": "stdout",
     "output_type": "stream",
     "text": [
      "Original function: 11.0\n",
      "Gradient: 7.0\n"
     ]
    }
   ],
   "source": [
    "# Create a tensor with requires_grad=True to track operations on it.\n",
    "x = torch.tensor(2.0, requires_grad=True)\n",
    "\n",
    "# Use the tensor for computation.\n",
    "y = x**2 + 3*x + 1\n",
    "\n",
    "print(f\"Original function: {y}\")\n",
    "\n",
    "# Compute gradients. This sets the `x.grad` field but does not change `y`.\n",
    "y.backward()\n",
    "\n",
    "# Print the gradient (dy/dx)\n",
    "print(f\"Gradient: {x.grad}\")"
   ]
  },
  {
   "cell_type": "markdown",
   "metadata": {},
   "source": [
    "### Moving Tensors to GPU"
   ]
  },
  {
   "cell_type": "code",
   "execution_count": 82,
   "metadata": {},
   "outputs": [
    {
     "name": "stdout",
     "output_type": "stream",
     "text": [
      "GPU not available.\n"
     ]
    }
   ],
   "source": [
    "if torch.cuda.is_available():\n",
    "    tensor_gpu = tensor.to('cuda')\n",
    "    print(tensor_gpu)\n",
    "else:\n",
    "    print(\"GPU not available.\")"
   ]
  },
  {
   "cell_type": "markdown",
   "metadata": {},
   "source": [
    "## Part 3: Training a Model\n",
    "\n",
    "Overview of steps:\n",
    "\n",
    "1. Create example dataset.\n",
    "1. Define a linear model: $y=Wx+b$.\n",
    "   - $W$ is the weight.\n",
    "   - $b$ is the bias.\n",
    "1. Train the model using training data. The model adjusts $W$ and $b$ to minimize the loss function.\n",
    "1. Perform inference with the trained model. Given an arbitrary input, use the model to predict the outputs."
   ]
  },
  {
   "cell_type": "code",
   "execution_count": 83,
   "metadata": {},
   "outputs": [],
   "source": [
    "import torch\n",
    "import torch.nn as nn\n",
    "import torch.optim as optim\n",
    "import matplotlib.pyplot as plt"
   ]
  },
  {
   "cell_type": "markdown",
   "metadata": {},
   "source": [
    "### 1. Create Example Dataset"
   ]
  },
  {
   "cell_type": "code",
   "execution_count": 84,
   "metadata": {},
   "outputs": [],
   "source": [
    "# Generate some example data.\n",
    "# Data will match the following function outputs: y = 2 * x + 1.\n",
    "# In a real-world scenario, this data could come from measurements or other sources.\n",
    "X = torch.tensor([[1.0], [2.0], [3.0], [4.0]])\n",
    "y = torch.tensor([[3.0], [5.0], [7.0], [9.0]])"
   ]
  },
  {
   "cell_type": "code",
   "execution_count": 85,
   "metadata": {},
   "outputs": [
    {
     "data": {
      "image/png": "[encoded data removed]",
      "text/plain": [
       "<Figure size 640x480 with 1 Axes>"
      ]
     },
     "metadata": {},
     "output_type": "display_data"
    }
   ],
   "source": [
    "# Plot the data.\n",
    "plt.scatter(X.numpy(), y.numpy(), label=\"Data point\")\n",
    "plt.xlabel(\"X\")\n",
    "plt.ylabel(\"y\")\n",
    "plt.title(\"Training data\")\n",
    "plt.legend()\n",
    "plt.show()"
   ]
  },
  {
   "cell_type": "markdown",
   "metadata": {},
   "source": [
    "### 2. Define a Linear Model "
   ]
  },
  {
   "cell_type": "code",
   "execution_count": 86,
   "metadata": {},
   "outputs": [],
   "source": [
    "# Define a simple linear model.\n",
    "# The model we're defining is a linear model, which means it tries to fit a straight line to the data.\n",
    "# `nn.Linear` creates a linear transformation, essentially computing y = Wx + b, where W is the weight and b is the bias.\n",
    "model = nn.Linear(in_features=1, out_features=1)"
   ]
  },
  {
   "cell_type": "code",
   "execution_count": 87,
   "metadata": {},
   "outputs": [],
   "source": [
    "# Define loss function, optimizer\n",
    "# The loss function measures how well the model's predictions match the true outputs (y).\n",
    "# In this case, we use Mean Squared Error (MSE), which is a common loss function for regression problems.\n",
    "loss_fn = nn.MSELoss()\n",
    "\n",
    "# The optimizer is responsible for updating the model's weights based on the gradients computed during backpropagation.\n",
    "# Here, we're using Stochastic Gradient Descent (SGD), a simple and widely used optimization algorithm.\n",
    "optimizer = optim.SGD(model.parameters(), lr=0.01)"
   ]
  },
  {
   "cell_type": "markdown",
   "metadata": {},
   "source": [
    "### 3. Train the Model"
   ]
  },
  {
   "cell_type": "code",
   "execution_count": 88,
   "metadata": {},
   "outputs": [
    {
     "name": "stdout",
     "output_type": "stream",
     "text": [
      "Epoch 100/1000, Loss: 0.0038894820027053356\n",
      "Epoch 200/1000, Loss: 0.0021352844778448343\n",
      "Epoch 300/1000, Loss: 0.0011722565395757556\n",
      "Epoch 400/1000, Loss: 0.0006435519317165017\n",
      "Epoch 500/1000, Loss: 0.00035330691025592387\n",
      "Epoch 600/1000, Loss: 0.00019396796415094286\n",
      "Epoch 700/1000, Loss: 0.00010648653551470488\n",
      "Epoch 800/1000, Loss: 5.846282510901801e-05\n",
      "Epoch 900/1000, Loss: 3.209506394341588e-05\n",
      "Epoch 1000/1000, Loss: 1.761888779583387e-05\n"
     ]
    }
   ],
   "source": [
    "# Now we enter the training loop, where we repeatedly adjust the model's parameters to minimize the loss.\n",
    "epochs = 1000  # Number of times we will go through the entire dataset\n",
    "loss_values = []  # List to store loss values for plotting later\n",
    "\n",
    "for epoch in range(epochs):\n",
    "    # Forward pass: compute predicted y by passing X to the model.\n",
    "    # (why is it called a forward pass?)\n",
    "    # The model applies its current weights and bias to the inputs (X) to produce predictions (y_pred).\n",
    "    y_pred = model(X)\n",
    "    \n",
    "    # Compute the loss.\n",
    "    # The loss function compares the model's predictions (y_pred) with the true outputs (y) and returns a value indicating how far off the predictions are.\n",
    "    loss = loss_fn(y_pred, y)\n",
    "    \n",
    "    # Save the loss so that we can plot it.\n",
    "    loss_values.append(loss.item())\n",
    "\n",
    "    # Zero gradients, perform a backward pass, and update the weights.\n",
    "    # `optimizer.zero_grad()` clears old gradients from the previous step (otherwise they would accumulate).\n",
    "    # (what are gradients? what is a backward pass?)\n",
    "    optimizer.zero_grad()\n",
    "    \n",
    "    # `loss.backward()` computes the gradient of the loss with respect to the model's parameters (weights and bias).\n",
    "    # This is the \"backward pass\" and is part of the backpropagation algorithm.\n",
    "    loss.backward()\n",
    "\n",
    "    # `optimizer.step()` updates the model's parameters using the gradients computed in the backward pass.\n",
    "    # This is where the actual learning happens, as the model adjusts its weights to reduce the loss.\n",
    "    optimizer.step()\n",
    "\n",
    "    # Print the loss every 100 epochs.\n",
    "    if (epoch + 1) % 100 == 0:\n",
    "        print(f\"Epoch {epoch+1}/{epochs}, Loss: {loss.item()}\")"
   ]
  },
  {
   "cell_type": "markdown",
   "metadata": {},
   "source": [
    "## Part 4: Performing Inference"
   ]
  },
  {
   "cell_type": "code",
   "execution_count": 89,
   "metadata": {},
   "outputs": [
    {
     "name": "stdout",
     "output_type": "stream",
     "text": [
      "Predicted y for input 5.0: 10.992825508117676\n"
     ]
    }
   ],
   "source": [
    "# Perform inference for a single point.\n",
    "\n",
    "with torch.no_grad():  # Disable gradient calcualtion for inference.\n",
    "    new_X = torch.tensor([[5.0]])  # Example input\n",
    "    predicted_y = model(new_X)\n",
    "    print(f\"Predicted y for input 5.0: {predicted_y.item()}\")"
   ]
  },
  {
   "cell_type": "code",
   "execution_count": 90,
   "metadata": {},
   "outputs": [],
   "source": [
    "# Perform inference for the entire original X domain.\n",
    "with torch.no_grad():\n",
    "    y_pred = model(X)"
   ]
  },
  {
   "cell_type": "code",
   "execution_count": 91,
   "metadata": {},
   "outputs": [
    {
     "data": {
      "image/png": "[encoded data removed]",
      "text/plain": [
       "<Figure size 640x480 with 1 Axes>"
      ]
     },
     "metadata": {},
     "output_type": "display_data"
    }
   ],
   "source": [
    "# Plot results against original training data.\n",
    "plt.scatter(X.numpy(), y.numpy(), label=\"Training\")\n",
    "plt.scatter(X.numpy(), y_pred.numpy(), label=\"Predicted\", color=\"red\")\n",
    "plt.xlabel(\"X\")\n",
    "plt.ylabel(\"y\")\n",
    "plt.title(\"Training data\")\n",
    "plt.legend()\n",
    "plt.show()"
   ]
  },
  {
   "cell_type": "code",
   "execution_count": 92,
   "metadata": {},
   "outputs": [
    {
     "data": {
      "image/png": "[encoded data removed]",
      "text/plain": [
       "<Figure size 640x480 with 1 Axes>"
      ]
     },
     "metadata": {},
     "output_type": "display_data"
    },
    {
     "name": "stdout",
     "output_type": "stream",
     "text": [
      "[62.64255142211914, 43.46845245361328, 30.1639404296875, 20.932209014892578, 14.526493072509766, 10.081689834594727, 6.997523307800293, 4.857471466064453, 3.372523784637451, 2.3421382904052734]\n"
     ]
    }
   ],
   "source": [
    "# Plot loss over epochs.\n",
    "plt.plot(range(epochs), loss_values, label=\"Loss\")\n",
    "plt.xlabel(\"Epoch\")\n",
    "plt.ylabel(\"Loss\")\n",
    "plt.title(\"Training Loss\")\n",
    "plt.legend()\n",
    "plt.show()\n",
    "print(loss_values[0:10])"
   ]
  },
  {
   "cell_type": "markdown",
   "metadata": {},
   "source": [
    "## Part 5: Saving and Loading Models\n",
    "\n",
    "You have two options:\n",
    "\n",
    "- Save Model State *Only* (Weights and Biases):\n",
    "  - This is generally the preferred approach.\n",
    "  - Flexible and portable. Common when collaborating or using a model in production.\n",
    "  - Must redefine model architecture to load.\n",
    "- Save the entire model (including architecture).\n",
    "  - Easier to use - no need to define architecture to load.\n",
    "  - Avoids human error (redefining complex architectures).\n",
    "  - More convenient for experimenting / prototyping phases.\n",
    "\n",
    "In our case, \"redefining the architecture\" would be as simple as instantiating the Linear model again. For more complex models, this would require re-defining all layers and configuration."
   ]
  },
  {
   "cell_type": "markdown",
   "metadata": {},
   "source": [
    "### Method 1: Saving the Model State"
   ]
  },
  {
   "cell_type": "code",
   "execution_count": 93,
   "metadata": {},
   "outputs": [],
   "source": [
    "# TODO"
   ]
  },
  {
   "cell_type": "markdown",
   "metadata": {},
   "source": [
    "### Method 2: Saving / Loading Entire Model"
   ]
  },
  {
   "cell_type": "code",
   "execution_count": 94,
   "metadata": {},
   "outputs": [],
   "source": [
    "# TODO"
   ]
  },
  {
   "cell_type": "markdown",
   "metadata": {},
   "source": [
    "## Conclusion\n",
    "\n",
    "Thanks for checking out this notebook! I hope it helped you learn something new."
   ]
  }
 ],
 "metadata": {
  "kernelspec": {
   "display_name": ".venv",
   "language": "python",
   "name": "python3"
  },
  "language_info": {
   "codemirror_mode": {
    "name": "ipython",
    "version": 3
   },
   "file_extension": ".py",
   "mimetype": "text/x-python",
   "name": "python",
   "nbconvert_exporter": "python",
   "pygments_lexer": "ipython3",
   "version": "3.12.5"
  }
 },
 "nbformat": 4,
 "nbformat_minor": 2
}
